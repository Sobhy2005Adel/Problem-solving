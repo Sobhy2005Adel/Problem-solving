{
 "cells": [
  {
   "cell_type": "code",
   "execution_count": 1,
   "metadata": {},
   "outputs": [
    {
     "name": "stdout",
     "output_type": "stream",
     "text": [
      "The number is even.\n"
     ]
    }
   ],
   "source": [
    "#Write a program to ask the user to enter number and print the number is odd or even\n",
    "num = int(input(\"Enter a number: \"))\n",
    "if num % 2 == 0:\n",
    "    print(\"The number is even.\")\n",
    "else:\n",
    "    print(\"The number is odd.\")"
   ]
  },
  {
   "cell_type": "code",
   "execution_count": 2,
   "metadata": {},
   "outputs": [
    {
     "name": "stdout",
     "output_type": "stream",
     "text": [
      "Maximum number is: 96.0\n",
      "Minimum number is: 2.0\n"
     ]
    }
   ],
   "source": [
    "#Write a program to find a maximum and a minimum of three numbers or if the numbers are equal to each other, find if the given number is positive or negative\n",
    "num1 = float(input(\"Enter first number: \"))\n",
    "num2 = float(input(\"Enter second number: \"))\n",
    "num3 = float(input(\"Enter third number: \"))\n",
    "\n",
    "if num1 >= num2 and num1 >= num3:\n",
    "    max_num = num1\n",
    "elif num2 >= num1 and num2 >= num3:\n",
    "    max_num = num2\n",
    "else:\n",
    "    max_num = num3\n",
    "\n",
    "if num1 <= num2 and num1 <= num3:\n",
    "    min_num = num1\n",
    "elif num2 <= num1 and num2 <= num3:\n",
    "    min_num = num2\n",
    "else:\n",
    "    min_num = num3\n",
    "\n",
    "print(\"Maximum number is:\", max_num)\n",
    "print(\"Minimum number is:\", min_num)"
   ]
  },
  {
   "cell_type": "code",
   "execution_count": null,
   "metadata": {},
   "outputs": [],
   "source": [
    "#Write a program to ask from the user a word to check if it contains a vowel character or not. In case having a vowel character print its position.\n",
    "word = input(\"Enter a word: \")\n",
    "vowels = 'aeiou'\n",
    "\n",
    "for i in range(len(word)):\n",
    "    if word[i].lower() in vowels:\n",
    "        print(\"Vowel character found at position\", i+1)"
   ]
  },
  {
   "cell_type": "code",
   "execution_count": null,
   "metadata": {},
   "outputs": [],
   "source": [
    "# To check if the word contains a vowel character or not\n",
    "if not any(char.lower() in vowels for char in word):\n",
    "    print(\"The word does not contain a vowel character.\")"
   ]
  },
  {
   "cell_type": "code",
   "execution_count": null,
   "metadata": {},
   "outputs": [],
   "source": [
    "#Write a program to display the last digit of a number EX: number =145678 output => 8\n",
    "num = int(input(\"Enter a number: \"))\n",
    "print(\"The last digit of the number is:\", num % 10)"
   ]
  },
  {
   "cell_type": "code",
   "execution_count": null,
   "metadata": {},
   "outputs": [],
   "source": [
    "#Write a program to accept number from user and find if the number is divisible by 2 and 3 both.\n",
    "num = int(input(\"Enter a number: \"))\n",
    "if num % 2 == 0 and num % 3 == 0:\n",
    "    print(\"The number is divisible by 2 and 3 both.\")\n",
    "else:\n",
    "    print(\"The number is not divisible by 2 and 3 both.\")"
   ]
  },
  {
   "cell_type": "code",
   "execution_count": null,
   "metadata": {},
   "outputs": [],
   "source": [
    "# Write a program to accept the following from the user and calculate the\n",
    "# percentage of class attended, if the percentage is less than 75, then student\n",
    "# will not be able to sit in exam:\n",
    "# - Total number of working days\n",
    "# - Total number of days for absent\n",
    "total_days = int(input(\"Enter total number of working days: \"))\n",
    "absent_days = int(input(\"Enter total number of days for absent: \"))\n",
    "\n",
    "percentage = (total_days - absent_days) / total_days * 100\n",
    "\n",
    "if percentage < 75:\n",
    "    print(\"Student will not be able to sit in exam.\")\n",
    "else:\n",
    "    print(\"Student can sit in exam.\")"
   ]
  },
  {
   "cell_type": "code",
   "execution_count": null,
   "metadata": {},
   "outputs": [],
   "source": [
    "#7\n",
    "market_price = float(input(\"Enter the market price: \"))\n",
    "discount_percentage = 0\n",
    "\n",
    "if market_price > 10000:\n",
    "    discount_percentage = 20\n",
    "elif market_price > 7000:\n",
    "    discount_percentage = 15\n",
    "else:\n",
    "    discount_percentage = 10\n",
    "\n",
    "discount_amount = market_price * discount_percentage / 100\n",
    "price_after_discount = market_price - discount_amount\n",
    "\n",
    "print(\"Price after discount:\", price_after_discount)"
   ]
  },
  {
   "cell_type": "code",
   "execution_count": null,
   "metadata": {},
   "outputs": [],
   "source": [
    "#8\n",
    "def convert_string(input_string):\n",
    "    lower_count = sum(1 for c in input_string if c.islower())\n",
    "    upper_count = sum(1 for c in input_string if c.isupper())\n",
    "\n",
    "    if lower_count < upper_count:\n",
    "        return input_string.upper()\n",
    "    else:\n",
    "        return input_string.lower()\n",
    "\n",
    "input_string = input(\"Enter a string: \")\n",
    "print(convert_string(input_string))"
   ]
  },
  {
   "cell_type": "code",
   "execution_count": null,
   "metadata": {},
   "outputs": [],
   "source": [
    "#9\n",
    "def is_palindrome(number):\n",
    "    return str(number) == str(number)[::-1]\n",
    "\n",
    "def is_armstrong(number):\n",
    "    sum = 0\n",
    "    temp = number\n",
    "    while temp > 0:\n",
    "        digit = temp % 10\n",
    "        sum += digit ** 3\n",
    "        temp //= 10\n",
    "    return number == sum\n",
    "\n",
    "number = int(input(\"Enter a number: \"))\n",
    "if is_palindrome(number) and is_armstrong(number):\n",
    "    print(\"The number is both a palindrome and an Armstrong number.\")\n",
    "elif is_palindrome(number):\n",
    "    print(\"The number is a palindrome.\")\n",
    "elif is_armstrong(number):\n",
    "    print(\"The number is an Armstrong number.\")\n",
    "else:\n",
    "    print(\"The number is neither a palindrome nor an Armstrong number.\")\n"
   ]
  },
  {
   "cell_type": "code",
   "execution_count": null,
   "metadata": {},
   "outputs": [],
   "source": [
    "#10\n",
    "def convert_number_to_words(number):\n",
    "    ones = [\"Zero\", \"One\", \"Two\", \"Three\", \"Four\", \"Five\", \"Six\", \"Seven\", \"Eight\", \"Nine\"]\n",
    "    teens = [\"Ten\", \"Eleven\", \"Twelve\", \"Thirteen\", \"Fourteen\", \"Fifteen\", \"Sixteen\", \"Seventeen\", \"Eighteen\", \"Nineteen\"]\n",
    "    tens = [\"Twenty\", \"Thirty\", \"Forty\", \"Fifty\", \"Sixty\", \"Seventy\", \"Eighty\", \"Ninety\"]\n",
    "\n",
    "    if number < 10:\n",
    "        return ones[number]\n",
    "    elif number < 20:\n",
    "        return teens[number - 10]\n",
    "    elif number < 100:\n",
    "        return tens[number // 10 - 2] + \" \" + ones[number % 10]\n",
    "    elif number < 1000:\n",
    "        return ones[number // 100] + \" Hundred \" + convert_number_to_words(number % 100)\n",
    "    else:\n",
    "        return \"Number is too large to convert to words.\"\n",
    "\n",
    "number = int(input(\"Enter a number: \"))\n",
    "print(convert_number_to_words(number))"
   ]
  },
  {
   "cell_type": "code",
   "execution_count": null,
   "metadata": {},
   "outputs": [],
   "source": [
    "#11\n",
    "def find_sum(n):\n",
    "    sum = 0\n",
    "    for i in range(1, n + 1):\n",
    "        if i % 2 == 0:\n",
    "            sum += i ** 2\n",
    "        else:\n",
    "            sum -= i ** 2\n",
    "    return sum\n",
    "\n",
    "n = int(input(\"Enter the number of terms: \"))\n",
    "print(\"The sum of the series is:\", find_sum(n))"
   ]
  },
  {
   "cell_type": "code",
   "execution_count": null,
   "metadata": {},
   "outputs": [],
   "source": [
    "#12\n",
    "def count_word(input_string, word):\n",
    "    count = 0\n",
    "    positions = []\n",
    "    start = 0\n",
    "    while True:\n",
    "        start = input_string.find(word, start)\n",
    "        if start == -1:\n",
    "            break\n",
    "        count += 1\n",
    "        positions.append(start)\n",
    "        start += len(word)\n",
    "    return count, positions\n",
    "\n",
    "input_string = input(\"Enter a string: \")\n",
    "word = \"car\"\n",
    "count, positions = count_word(input_string, word)\n",
    "print(\"The word 'car' occurs\", count, \"times in the string.\")\n",
    "print(\"The positions of 'car' in the string are:\", positions)"
   ]
  },
  {
   "cell_type": "code",
   "execution_count": null,
   "metadata": {},
   "outputs": [],
   "source": [
    "#13\n",
    "def is_palindrome(input_string):\n",
    "    return input_string == input_string[::-1]\n",
    "\n",
    "input_string = input(\"Enter a string: \")\n",
    "if is_palindrome(input_string):\n",
    "    print(\"The string is a palindrome.\")\n",
    "else:\n",
    "    print(\"The string is not a palindrome.\")"
   ]
  },
  {
   "cell_type": "code",
   "execution_count": 4,
   "metadata": {},
   "outputs": [
    {
     "name": "stdout",
     "output_type": "stream",
     "text": [
      "1 \n",
      "1 2 \n",
      "1 2 3 \n",
      "1 2 3 4 \n",
      "1 2 3 4 5 \n",
      "1 2 3 4 5 6 \n",
      "1 2 3 4 5 6 7 \n",
      "1 2 3 4 5 6 7 8 \n",
      "1 2 3 4 5 6 7 8 9 \n",
      "*********\n",
      "********\n",
      "*******\n",
      "******\n",
      "*****\n",
      "****\n",
      "***\n",
      "**\n",
      "*\n"
     ]
    }
   ],
   "source": [
    "#14\n",
    "n = int(input(\"Enter the number of rows: \"))\n",
    "\n",
    "# Pattern a)\n",
    "for i in range(1, n + 1):\n",
    "    for j in range(1, i + 1):\n",
    "        print(j, end=\" \")\n",
    "    print()\n",
    "\n",
    "# Pattern b)\n",
    "for i in range(n, 0, -1):\n",
    "    for j in range(i, 0, -1):\n",
    "        print(\"*\", end=\"\")\n",
    "    print()"
   ]
  },
  {
   "cell_type": "code",
   "execution_count": null,
   "metadata": {},
   "outputs": [],
   "source": []
  }
 ],
 "metadata": {
  "kernelspec": {
   "display_name": "base",
   "language": "python",
   "name": "python3"
  },
  "language_info": {
   "codemirror_mode": {
    "name": "ipython",
    "version": 3
   },
   "file_extension": ".py",
   "mimetype": "text/x-python",
   "name": "python",
   "nbconvert_exporter": "python",
   "pygments_lexer": "ipython3",
   "version": "3.11.7"
  }
 },
 "nbformat": 4,
 "nbformat_minor": 2
}
